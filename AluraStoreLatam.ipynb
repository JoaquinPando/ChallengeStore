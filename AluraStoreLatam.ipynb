{
  "nbformat": 4,
  "nbformat_minor": 0,
  "metadata": {
    "colab": {
      "provenance": []
    },
    "kernelspec": {
      "name": "python3",
      "display_name": "Python 3"
    },
    "language_info": {
      "name": "python"
    }
  },
  "cells": [
    {
      "cell_type": "markdown",
      "source": [
        "### Importación de datos\n",
        "\n"
      ],
      "metadata": {
        "id": "RhEdWd9YUR6H"
      }
    },
    {
      "cell_type": "code",
      "execution_count": null,
      "metadata": {
        "colab": {
          "base_uri": "https://localhost:8080/",
          "height": 310
        },
        "id": "T3EvaeQ_INIL",
        "outputId": "bba78ef5-45b5-4584-d31c-4fa832c37dc2"
      },
      "outputs": [
        {
          "output_type": "execute_result",
          "data": {
            "text/plain": [
              "            Producto Categoría del Producto    Precio  Costo de envío  \\\n",
              "0  Asistente virtual           Electrónicos  164300.0          6900.0   \n",
              "1    Mesa de comedor                Muebles  192300.0          8400.0   \n",
              "2      Juego de mesa               Juguetes  209600.0         15900.0   \n",
              "3         Microondas      Electrodomésticos  757500.0         41000.0   \n",
              "4   Silla de oficina                Muebles  335200.0         20200.0   \n",
              "\n",
              "  Fecha de Compra         Vendedor Lugar de Compra  Calificación  \\\n",
              "0      16/01/2021      Pedro Gomez          Bogotá             4   \n",
              "1      18/05/2022  Beatriz Morales        Medellín             1   \n",
              "2      15/03/2021   Juan Fernandez       Cartagena             1   \n",
              "3      03/05/2022   Juan Fernandez            Cali             4   \n",
              "4      07/11/2020    Maria Alfonso        Medellín             5   \n",
              "\n",
              "       Método de pago  Cantidad de cuotas       lat       lon  \n",
              "0  Tarjeta de crédito                   8   4.60971 -74.08175  \n",
              "1  Tarjeta de crédito                   4   6.25184 -75.56359  \n",
              "2  Tarjeta de crédito                   1  10.39972 -75.51444  \n",
              "3               Nequi                   1   3.43722 -76.52250  \n",
              "4               Nequi                   1   6.25184 -75.56359  "
            ],
            "text/html": [
              "\n",
              "  <div id=\"df-f714bf61-f681-4e0c-8d89-64244880d63a\" class=\"colab-df-container\">\n",
              "    <div>\n",
              "<style scoped>\n",
              "    .dataframe tbody tr th:only-of-type {\n",
              "        vertical-align: middle;\n",
              "    }\n",
              "\n",
              "    .dataframe tbody tr th {\n",
              "        vertical-align: top;\n",
              "    }\n",
              "\n",
              "    .dataframe thead th {\n",
              "        text-align: right;\n",
              "    }\n",
              "</style>\n",
              "<table border=\"1\" class=\"dataframe\">\n",
              "  <thead>\n",
              "    <tr style=\"text-align: right;\">\n",
              "      <th></th>\n",
              "      <th>Producto</th>\n",
              "      <th>Categoría del Producto</th>\n",
              "      <th>Precio</th>\n",
              "      <th>Costo de envío</th>\n",
              "      <th>Fecha de Compra</th>\n",
              "      <th>Vendedor</th>\n",
              "      <th>Lugar de Compra</th>\n",
              "      <th>Calificación</th>\n",
              "      <th>Método de pago</th>\n",
              "      <th>Cantidad de cuotas</th>\n",
              "      <th>lat</th>\n",
              "      <th>lon</th>\n",
              "    </tr>\n",
              "  </thead>\n",
              "  <tbody>\n",
              "    <tr>\n",
              "      <th>0</th>\n",
              "      <td>Asistente virtual</td>\n",
              "      <td>Electrónicos</td>\n",
              "      <td>164300.0</td>\n",
              "      <td>6900.0</td>\n",
              "      <td>16/01/2021</td>\n",
              "      <td>Pedro Gomez</td>\n",
              "      <td>Bogotá</td>\n",
              "      <td>4</td>\n",
              "      <td>Tarjeta de crédito</td>\n",
              "      <td>8</td>\n",
              "      <td>4.60971</td>\n",
              "      <td>-74.08175</td>\n",
              "    </tr>\n",
              "    <tr>\n",
              "      <th>1</th>\n",
              "      <td>Mesa de comedor</td>\n",
              "      <td>Muebles</td>\n",
              "      <td>192300.0</td>\n",
              "      <td>8400.0</td>\n",
              "      <td>18/05/2022</td>\n",
              "      <td>Beatriz Morales</td>\n",
              "      <td>Medellín</td>\n",
              "      <td>1</td>\n",
              "      <td>Tarjeta de crédito</td>\n",
              "      <td>4</td>\n",
              "      <td>6.25184</td>\n",
              "      <td>-75.56359</td>\n",
              "    </tr>\n",
              "    <tr>\n",
              "      <th>2</th>\n",
              "      <td>Juego de mesa</td>\n",
              "      <td>Juguetes</td>\n",
              "      <td>209600.0</td>\n",
              "      <td>15900.0</td>\n",
              "      <td>15/03/2021</td>\n",
              "      <td>Juan Fernandez</td>\n",
              "      <td>Cartagena</td>\n",
              "      <td>1</td>\n",
              "      <td>Tarjeta de crédito</td>\n",
              "      <td>1</td>\n",
              "      <td>10.39972</td>\n",
              "      <td>-75.51444</td>\n",
              "    </tr>\n",
              "    <tr>\n",
              "      <th>3</th>\n",
              "      <td>Microondas</td>\n",
              "      <td>Electrodomésticos</td>\n",
              "      <td>757500.0</td>\n",
              "      <td>41000.0</td>\n",
              "      <td>03/05/2022</td>\n",
              "      <td>Juan Fernandez</td>\n",
              "      <td>Cali</td>\n",
              "      <td>4</td>\n",
              "      <td>Nequi</td>\n",
              "      <td>1</td>\n",
              "      <td>3.43722</td>\n",
              "      <td>-76.52250</td>\n",
              "    </tr>\n",
              "    <tr>\n",
              "      <th>4</th>\n",
              "      <td>Silla de oficina</td>\n",
              "      <td>Muebles</td>\n",
              "      <td>335200.0</td>\n",
              "      <td>20200.0</td>\n",
              "      <td>07/11/2020</td>\n",
              "      <td>Maria Alfonso</td>\n",
              "      <td>Medellín</td>\n",
              "      <td>5</td>\n",
              "      <td>Nequi</td>\n",
              "      <td>1</td>\n",
              "      <td>6.25184</td>\n",
              "      <td>-75.56359</td>\n",
              "    </tr>\n",
              "  </tbody>\n",
              "</table>\n",
              "</div>\n",
              "    <div class=\"colab-df-buttons\">\n",
              "\n",
              "  <div class=\"colab-df-container\">\n",
              "    <button class=\"colab-df-convert\" onclick=\"convertToInteractive('df-f714bf61-f681-4e0c-8d89-64244880d63a')\"\n",
              "            title=\"Convert this dataframe to an interactive table.\"\n",
              "            style=\"display:none;\">\n",
              "\n",
              "  <svg xmlns=\"http://www.w3.org/2000/svg\" height=\"24px\" viewBox=\"0 -960 960 960\">\n",
              "    <path d=\"M120-120v-720h720v720H120Zm60-500h600v-160H180v160Zm220 220h160v-160H400v160Zm0 220h160v-160H400v160ZM180-400h160v-160H180v160Zm440 0h160v-160H620v160ZM180-180h160v-160H180v160Zm440 0h160v-160H620v160Z\"/>\n",
              "  </svg>\n",
              "    </button>\n",
              "\n",
              "  <style>\n",
              "    .colab-df-container {\n",
              "      display:flex;\n",
              "      gap: 12px;\n",
              "    }\n",
              "\n",
              "    .colab-df-convert {\n",
              "      background-color: #E8F0FE;\n",
              "      border: none;\n",
              "      border-radius: 50%;\n",
              "      cursor: pointer;\n",
              "      display: none;\n",
              "      fill: #1967D2;\n",
              "      height: 32px;\n",
              "      padding: 0 0 0 0;\n",
              "      width: 32px;\n",
              "    }\n",
              "\n",
              "    .colab-df-convert:hover {\n",
              "      background-color: #E2EBFA;\n",
              "      box-shadow: 0px 1px 2px rgba(60, 64, 67, 0.3), 0px 1px 3px 1px rgba(60, 64, 67, 0.15);\n",
              "      fill: #174EA6;\n",
              "    }\n",
              "\n",
              "    .colab-df-buttons div {\n",
              "      margin-bottom: 4px;\n",
              "    }\n",
              "\n",
              "    [theme=dark] .colab-df-convert {\n",
              "      background-color: #3B4455;\n",
              "      fill: #D2E3FC;\n",
              "    }\n",
              "\n",
              "    [theme=dark] .colab-df-convert:hover {\n",
              "      background-color: #434B5C;\n",
              "      box-shadow: 0px 1px 3px 1px rgba(0, 0, 0, 0.15);\n",
              "      filter: drop-shadow(0px 1px 2px rgba(0, 0, 0, 0.3));\n",
              "      fill: #FFFFFF;\n",
              "    }\n",
              "  </style>\n",
              "\n",
              "    <script>\n",
              "      const buttonEl =\n",
              "        document.querySelector('#df-f714bf61-f681-4e0c-8d89-64244880d63a button.colab-df-convert');\n",
              "      buttonEl.style.display =\n",
              "        google.colab.kernel.accessAllowed ? 'block' : 'none';\n",
              "\n",
              "      async function convertToInteractive(key) {\n",
              "        const element = document.querySelector('#df-f714bf61-f681-4e0c-8d89-64244880d63a');\n",
              "        const dataTable =\n",
              "          await google.colab.kernel.invokeFunction('convertToInteractive',\n",
              "                                                    [key], {});\n",
              "        if (!dataTable) return;\n",
              "\n",
              "        const docLinkHtml = 'Like what you see? Visit the ' +\n",
              "          '<a target=\"_blank\" href=https://colab.research.google.com/notebooks/data_table.ipynb>data table notebook</a>'\n",
              "          + ' to learn more about interactive tables.';\n",
              "        element.innerHTML = '';\n",
              "        dataTable['output_type'] = 'display_data';\n",
              "        await google.colab.output.renderOutput(dataTable, element);\n",
              "        const docLink = document.createElement('div');\n",
              "        docLink.innerHTML = docLinkHtml;\n",
              "        element.appendChild(docLink);\n",
              "      }\n",
              "    </script>\n",
              "  </div>\n",
              "\n",
              "\n",
              "    <div id=\"df-81ecc787-972a-4687-bac9-a6717e4e1251\">\n",
              "      <button class=\"colab-df-quickchart\" onclick=\"quickchart('df-81ecc787-972a-4687-bac9-a6717e4e1251')\"\n",
              "                title=\"Suggest charts\"\n",
              "                style=\"display:none;\">\n",
              "\n",
              "<svg xmlns=\"http://www.w3.org/2000/svg\" height=\"24px\"viewBox=\"0 0 24 24\"\n",
              "     width=\"24px\">\n",
              "    <g>\n",
              "        <path d=\"M19 3H5c-1.1 0-2 .9-2 2v14c0 1.1.9 2 2 2h14c1.1 0 2-.9 2-2V5c0-1.1-.9-2-2-2zM9 17H7v-7h2v7zm4 0h-2V7h2v10zm4 0h-2v-4h2v4z\"/>\n",
              "    </g>\n",
              "</svg>\n",
              "      </button>\n",
              "\n",
              "<style>\n",
              "  .colab-df-quickchart {\n",
              "      --bg-color: #E8F0FE;\n",
              "      --fill-color: #1967D2;\n",
              "      --hover-bg-color: #E2EBFA;\n",
              "      --hover-fill-color: #174EA6;\n",
              "      --disabled-fill-color: #AAA;\n",
              "      --disabled-bg-color: #DDD;\n",
              "  }\n",
              "\n",
              "  [theme=dark] .colab-df-quickchart {\n",
              "      --bg-color: #3B4455;\n",
              "      --fill-color: #D2E3FC;\n",
              "      --hover-bg-color: #434B5C;\n",
              "      --hover-fill-color: #FFFFFF;\n",
              "      --disabled-bg-color: #3B4455;\n",
              "      --disabled-fill-color: #666;\n",
              "  }\n",
              "\n",
              "  .colab-df-quickchart {\n",
              "    background-color: var(--bg-color);\n",
              "    border: none;\n",
              "    border-radius: 50%;\n",
              "    cursor: pointer;\n",
              "    display: none;\n",
              "    fill: var(--fill-color);\n",
              "    height: 32px;\n",
              "    padding: 0;\n",
              "    width: 32px;\n",
              "  }\n",
              "\n",
              "  .colab-df-quickchart:hover {\n",
              "    background-color: var(--hover-bg-color);\n",
              "    box-shadow: 0 1px 2px rgba(60, 64, 67, 0.3), 0 1px 3px 1px rgba(60, 64, 67, 0.15);\n",
              "    fill: var(--button-hover-fill-color);\n",
              "  }\n",
              "\n",
              "  .colab-df-quickchart-complete:disabled,\n",
              "  .colab-df-quickchart-complete:disabled:hover {\n",
              "    background-color: var(--disabled-bg-color);\n",
              "    fill: var(--disabled-fill-color);\n",
              "    box-shadow: none;\n",
              "  }\n",
              "\n",
              "  .colab-df-spinner {\n",
              "    border: 2px solid var(--fill-color);\n",
              "    border-color: transparent;\n",
              "    border-bottom-color: var(--fill-color);\n",
              "    animation:\n",
              "      spin 1s steps(1) infinite;\n",
              "  }\n",
              "\n",
              "  @keyframes spin {\n",
              "    0% {\n",
              "      border-color: transparent;\n",
              "      border-bottom-color: var(--fill-color);\n",
              "      border-left-color: var(--fill-color);\n",
              "    }\n",
              "    20% {\n",
              "      border-color: transparent;\n",
              "      border-left-color: var(--fill-color);\n",
              "      border-top-color: var(--fill-color);\n",
              "    }\n",
              "    30% {\n",
              "      border-color: transparent;\n",
              "      border-left-color: var(--fill-color);\n",
              "      border-top-color: var(--fill-color);\n",
              "      border-right-color: var(--fill-color);\n",
              "    }\n",
              "    40% {\n",
              "      border-color: transparent;\n",
              "      border-right-color: var(--fill-color);\n",
              "      border-top-color: var(--fill-color);\n",
              "    }\n",
              "    60% {\n",
              "      border-color: transparent;\n",
              "      border-right-color: var(--fill-color);\n",
              "    }\n",
              "    80% {\n",
              "      border-color: transparent;\n",
              "      border-right-color: var(--fill-color);\n",
              "      border-bottom-color: var(--fill-color);\n",
              "    }\n",
              "    90% {\n",
              "      border-color: transparent;\n",
              "      border-bottom-color: var(--fill-color);\n",
              "    }\n",
              "  }\n",
              "</style>\n",
              "\n",
              "      <script>\n",
              "        async function quickchart(key) {\n",
              "          const quickchartButtonEl =\n",
              "            document.querySelector('#' + key + ' button');\n",
              "          quickchartButtonEl.disabled = true;  // To prevent multiple clicks.\n",
              "          quickchartButtonEl.classList.add('colab-df-spinner');\n",
              "          try {\n",
              "            const charts = await google.colab.kernel.invokeFunction(\n",
              "                'suggestCharts', [key], {});\n",
              "          } catch (error) {\n",
              "            console.error('Error during call to suggestCharts:', error);\n",
              "          }\n",
              "          quickchartButtonEl.classList.remove('colab-df-spinner');\n",
              "          quickchartButtonEl.classList.add('colab-df-quickchart-complete');\n",
              "        }\n",
              "        (() => {\n",
              "          let quickchartButtonEl =\n",
              "            document.querySelector('#df-81ecc787-972a-4687-bac9-a6717e4e1251 button');\n",
              "          quickchartButtonEl.style.display =\n",
              "            google.colab.kernel.accessAllowed ? 'block' : 'none';\n",
              "        })();\n",
              "      </script>\n",
              "    </div>\n",
              "\n",
              "    </div>\n",
              "  </div>\n"
            ],
            "application/vnd.google.colaboratory.intrinsic+json": {
              "type": "dataframe",
              "variable_name": "tienda",
              "summary": "{\n  \"name\": \"tienda\",\n  \"rows\": 2359,\n  \"fields\": [\n    {\n      \"column\": \"Producto\",\n      \"properties\": {\n        \"dtype\": \"category\",\n        \"num_unique_values\": 51,\n        \"samples\": [\n          \"Guitarra ac\\u00fastica\",\n          \"Bal\\u00f3n de baloncesto\",\n          \"Smartwatch\"\n        ],\n        \"semantic_type\": \"\",\n        \"description\": \"\"\n      }\n    },\n    {\n      \"column\": \"Categor\\u00eda del Producto\",\n      \"properties\": {\n        \"dtype\": \"category\",\n        \"num_unique_values\": 8,\n        \"samples\": [\n          \"Muebles\",\n          \"Deportes y diversi\\u00f3n\",\n          \"Electr\\u00f3nicos\"\n        ],\n        \"semantic_type\": \"\",\n        \"description\": \"\"\n      }\n    },\n    {\n      \"column\": \"Precio\",\n      \"properties\": {\n        \"dtype\": \"number\",\n        \"std\": 614686.7653873172,\n        \"min\": 7600.0,\n        \"max\": 2977000.0,\n        \"num_unique_values\": 1937,\n        \"samples\": [\n          2499400.0,\n          14800.0,\n          80500.0\n        ],\n        \"semantic_type\": \"\",\n        \"description\": \"\"\n      }\n    },\n    {\n      \"column\": \"Costo de env\\u00edo\",\n      \"properties\": {\n        \"dtype\": \"number\",\n        \"std\": 32860.0017825605,\n        \"min\": 0.0,\n        \"max\": 160800.0,\n        \"num_unique_values\": 753,\n        \"samples\": [\n          117800.0,\n          54700.0,\n          45600.0\n        ],\n        \"semantic_type\": \"\",\n        \"description\": \"\"\n      }\n    },\n    {\n      \"column\": \"Fecha de Compra\",\n      \"properties\": {\n        \"dtype\": \"object\",\n        \"num_unique_values\": 1018,\n        \"samples\": [\n          \"15/09/2022\",\n          \"03/06/2020\",\n          \"06/11/2021\"\n        ],\n        \"semantic_type\": \"\",\n        \"description\": \"\"\n      }\n    },\n    {\n      \"column\": \"Vendedor\",\n      \"properties\": {\n        \"dtype\": \"category\",\n        \"num_unique_values\": 14,\n        \"samples\": [\n          \"Juliana Costa\",\n          \"Mariana Herrera\",\n          \"Pedro Gomez\"\n        ],\n        \"semantic_type\": \"\",\n        \"description\": \"\"\n      }\n    },\n    {\n      \"column\": \"Lugar de Compra\",\n      \"properties\": {\n        \"dtype\": \"category\",\n        \"num_unique_values\": 19,\n        \"samples\": [\n          \"Bogot\\u00e1\",\n          \"Pereira\",\n          \"Neiva\"\n        ],\n        \"semantic_type\": \"\",\n        \"description\": \"\"\n      }\n    },\n    {\n      \"column\": \"Calificaci\\u00f3n\",\n      \"properties\": {\n        \"dtype\": \"number\",\n        \"std\": 1,\n        \"min\": 1,\n        \"max\": 5,\n        \"num_unique_values\": 5,\n        \"samples\": [\n          1,\n          2,\n          5\n        ],\n        \"semantic_type\": \"\",\n        \"description\": \"\"\n      }\n    },\n    {\n      \"column\": \"M\\u00e9todo de pago\",\n      \"properties\": {\n        \"dtype\": \"category\",\n        \"num_unique_values\": 4,\n        \"samples\": [\n          \"Nequi\",\n          \"Tarjeta de d\\u00e9bito\",\n          \"Tarjeta de cr\\u00e9dito\"\n        ],\n        \"semantic_type\": \"\",\n        \"description\": \"\"\n      }\n    },\n    {\n      \"column\": \"Cantidad de cuotas\",\n      \"properties\": {\n        \"dtype\": \"number\",\n        \"std\": 2,\n        \"min\": 1,\n        \"max\": 24,\n        \"num_unique_values\": 15,\n        \"samples\": [\n          7,\n          14,\n          8\n        ],\n        \"semantic_type\": \"\",\n        \"description\": \"\"\n      }\n    },\n    {\n      \"column\": \"lat\",\n      \"properties\": {\n        \"dtype\": \"number\",\n        \"std\": 2.2874452492678627,\n        \"min\": -4.21528,\n        \"max\": 11.54444,\n        \"num_unique_values\": 19,\n        \"samples\": [\n          4.60971,\n          4.81333,\n          2.9273\n        ],\n        \"semantic_type\": \"\",\n        \"description\": \"\"\n      }\n    },\n    {\n      \"column\": \"lon\",\n      \"properties\": {\n        \"dtype\": \"number\",\n        \"std\": 1.2178272727088486,\n        \"min\": -77.28111,\n        \"max\": -67.9239,\n        \"num_unique_values\": 19,\n        \"samples\": [\n          -74.08175,\n          -75.69611,\n          -75.28189\n        ],\n        \"semantic_type\": \"\",\n        \"description\": \"\"\n      }\n    }\n  ]\n}"
            }
          },
          "metadata": {},
          "execution_count": 2
        }
      ],
      "source": [
        "import matplotlib.pyplot as plt\n",
        "import pandas as pd\n",
        "\n",
        "url = \"https://raw.githubusercontent.com/alura-es-cursos/challenge1-data-science-latam/refs/heads/main/base-de-datos-challenge1-latam/tienda_1%20.csv\"\n",
        "url2 = \"https://raw.githubusercontent.com/alura-es-cursos/challenge1-data-science-latam/refs/heads/main/base-de-datos-challenge1-latam/tienda_2.csv\"\n",
        "url3 = \"https://raw.githubusercontent.com/alura-es-cursos/challenge1-data-science-latam/refs/heads/main/base-de-datos-challenge1-latam/tienda_3.csv\"\n",
        "url4 = \"https://raw.githubusercontent.com/alura-es-cursos/challenge1-data-science-latam/refs/heads/main/base-de-datos-challenge1-latam/tienda_4.csv\"\n",
        "\n",
        "tienda = pd.read_csv(url)\n",
        "tienda2 = pd.read_csv(url2)\n",
        "tienda3 = pd.read_csv(url3)\n",
        "tienda4 = pd.read_csv(url4)\n",
        "\n",
        "tienda.head()"
      ]
    },
    {
      "cell_type": "markdown",
      "source": [
        "#1. Análisis de facturación\n",
        "\n"
      ],
      "metadata": {
        "id": "X62IW3KFUIYm"
      }
    },
    {
      "cell_type": "code",
      "source": [
        "#calcular el ingreso total de cada tienda.\n",
        "#Sumando los valores de la columna Precio de cada conjunto de datos de la tienda para estimar los ingresos.\n",
        "\n",
        "#extrayendo de los dataframes la columna precio\n",
        "precio_serie = tienda['Precio']\n",
        "precio_serie2 = tienda2['Precio']\n",
        "precio_serie3 = tienda3['Precio']\n",
        "precio_serie4 = tienda4['Precio']\n",
        "#usar la funcion sum() de pandas y imprimiendo resultados\n",
        "print(f'Ingreso total de la tienda 1: {precio_serie.sum()}')\n",
        "print(f'Ingreso total de la tienda 2: {precio_serie2.sum()}')\n",
        "print(f'Ingreso total de la tienda 3: {precio_serie3.sum()}')\n",
        "print(f'Ingreso total de la tienda 4: {precio_serie4.sum()}')\n"
      ],
      "metadata": {
        "id": "xykobSftV64I",
        "colab": {
          "base_uri": "https://localhost:8080/"
        },
        "outputId": "413836fb-b16b-4d05-d49d-37462bf90990"
      },
      "execution_count": null,
      "outputs": [
        {
          "output_type": "stream",
          "name": "stdout",
          "text": [
            "Ingreso total de la tienda 1: 1150880400.0\n",
            "Ingreso total de la tienda 2: 1116343500.0\n",
            "Ingreso total de la tienda 3: 1098019600.0\n",
            "Ingreso total de la tienda 4: 1038375700.0\n"
          ]
        }
      ]
    },
    {
      "cell_type": "code",
      "source": [
        "#grafico\n",
        "sumas = [precio_serie.sum(), precio_serie2.sum(), precio_serie3.sum(), precio_serie4.sum()]\n",
        "etiquetas = ['Tienda 1', 'Tienda 2', 'Tienda 3', 'Tienda 4']\n",
        "\n",
        "plt.pie(sumas, labels=etiquetas, autopct='%1.1f%%')\n",
        "plt.title('Distribución porcentual de ingresos por tienda')\n",
        "plt.show()\n",
        "\n",
        "\n",
        "\n"
      ],
      "metadata": {
        "id": "KDyr8E71V3m-",
        "outputId": "6beeaf25-6a16-4cf3-a94d-e5c45a96b58d",
        "colab": {
          "base_uri": "https://localhost:8080/",
          "height": 430
        }
      },
      "execution_count": null,
      "outputs": [
        {
          "output_type": "display_data",
          "data": {
            "text/plain": [
              "<Figure size 640x480 with 1 Axes>"
            ],
            "image/png": "[encoded data removed]"
          },
          "metadata": {}
        }
      ]
    },
    {
      "cell_type": "markdown",
      "source": [
        "# 2. Ventas por categoría"
      ],
      "metadata": {
        "id": "2V_vcAPzWZmR"
      }
    },
    {
      "cell_type": "code",
      "source": [
        "#Calcular la cantidad de productos vendidos por categoría en cada tienda.\n",
        "#La idea es agrupar los datos por categoría y contar el número de ventas de cada tipo,\n",
        "#mostrando las categorías más populares de cada tienda."
      ],
      "metadata": {
        "id": "A34YupIuYhfF"
      },
      "execution_count": null,
      "outputs": []
    },
    {
      "cell_type": "code",
      "source": [
        "#Extrayendo categorias por cada tienda\n",
        "categoria_serie = tienda['Categoría del Producto']\n",
        "categoria_serie2 = tienda2['Categoría del Producto']\n",
        "categoria_serie3 = tienda3['Categoría del Producto']\n",
        "categoria_serie4 = tienda4['Categoría del Producto']\n",
        "#agrupando categorias\n",
        "categoria_tienda = categoria_serie.value_counts()\n",
        "categoria_tienda2 = categoria_serie2.value_counts()\n",
        "categoria_tienda3 = categoria_serie3.value_counts()\n",
        "categoria_tienda4 = categoria_serie4.value_counts()\n",
        "#La función value_counts() en padas nos sirve para contar la frecuencia de valores\n",
        "#únicos en una serie o columna de un Data-frame\n",
        "\n",
        "#mostrando categorias populares por cada tienda\n",
        "print(f'Categorias más populares de la tienda 1: \\n{categoria_tienda}')\n",
        "print(f'Categorias más populares de la tienda 2: \\n{categoria_tienda2}')\n",
        "print(f'Categorias más populares de la tienda 3: \\n{categoria_tienda3}')\n",
        "print(f'Categorias más populares de la tienda 4: \\n{categoria_tienda4}')\n",
        "\n",
        "\n"
      ],
      "metadata": {
        "id": "yZR6cOjXYSk1",
        "colab": {
          "base_uri": "https://localhost:8080/"
        },
        "outputId": "6f6b022a-d458-408f-8c25-90a23f18f2ad"
      },
      "execution_count": null,
      "outputs": [
        {
          "output_type": "stream",
          "name": "stdout",
          "text": [
            "Categorias más populares de la tienda 1: \n",
            "Categoría del Producto\n",
            "Muebles                    465\n",
            "Electrónicos               448\n",
            "Juguetes                   324\n",
            "Electrodomésticos          312\n",
            "Deportes y diversión       284\n",
            "Instrumentos musicales     182\n",
            "Libros                     173\n",
            "Artículos para el hogar    171\n",
            "Name: count, dtype: int64\n",
            "Categorias más populares de la tienda 2: \n",
            "Categoría del Producto\n",
            "Muebles                    442\n",
            "Electrónicos               422\n",
            "Juguetes                   313\n",
            "Electrodomésticos          305\n",
            "Deportes y diversión       275\n",
            "Instrumentos musicales     224\n",
            "Libros                     197\n",
            "Artículos para el hogar    181\n",
            "Name: count, dtype: int64\n",
            "Categorias más populares de la tienda 3: \n",
            "Categoría del Producto\n",
            "Muebles                    499\n",
            "Electrónicos               451\n",
            "Juguetes                   315\n",
            "Electrodomésticos          278\n",
            "Deportes y diversión       277\n",
            "Libros                     185\n",
            "Instrumentos musicales     177\n",
            "Artículos para el hogar    177\n",
            "Name: count, dtype: int64\n",
            "Categorias más populares de la tienda 4: \n",
            "Categoría del Producto\n",
            "Muebles                    480\n",
            "Electrónicos               451\n",
            "Juguetes                   338\n",
            "Deportes y diversión       277\n",
            "Electrodomésticos          254\n",
            "Artículos para el hogar    201\n",
            "Libros                     187\n",
            "Instrumentos musicales     170\n",
            "Name: count, dtype: int64\n",
            "\n",
            "6. GRÁFICO DE PASTEL - Para mostrar categorias populares\n"
          ]
        }
      ]
    },
    {
      "cell_type": "markdown",
      "source": [
        "# 3. Calificación promedio de la tienda\n"
      ],
      "metadata": {
        "id": "Rq6tU_xSY3jk"
      }
    },
    {
      "cell_type": "code",
      "source": [
        "#En este paso, debes calcular las calificaciones promedio de los clientes para cada tienda.\n",
        "# El objetivo es conocer la satisfacción del cliente con los productos vendidos."
      ],
      "metadata": {
        "id": "bh3jjjJwY5MU"
      },
      "execution_count": null,
      "outputs": []
    },
    {
      "cell_type": "code",
      "source": [
        "#Extrayendo calificaciones\n",
        "calificacion_serie = tienda['Calificación']\n",
        "calificacion_serie2 = tienda2['Calificación']\n",
        "calificacion_serie3 = tienda3['Calificación']\n",
        "calificacion_serie4 = tienda4['Calificación']\n",
        "#calcular los promedios\n",
        "calificacion_tienda = calificacion_serie.mean()\n",
        "calificacion_tienda2 = calificacion_serie2.mean()\n",
        "calificacion_tienda3 = calificacion_serie3.mean()\n",
        "calificacion_tienda4 = calificacion_serie4.mean()\n",
        "#la función mean() nos sirve para calcular los promedios de los valores de un DataFrame o de una Serie\n",
        "#Imprimiendo promedios por cada tienda redondeado a dos decimales\n",
        "print(f'Calificación promedio de la tienda 1: {round(calificacion_tienda, 2)}')\n",
        "print(f'Calificación promedio de la tienda 2: {round(calificacion_tienda2, 2)}')\n",
        "print(f'Calificación promedio de la tienda 3: {round(calificacion_tienda3, 2)}')\n",
        "print(f'Calificación promedio de la tienda 4: {round(calificacion_tienda4, 2)}')\n",
        "#gráfico\n",
        "etiquetas = ['Tienda 1', 'Tienda 2', 'Tienda 3', 'Tienda 4']\n",
        "calificaciones = [calificacion_tienda, calificacion_tienda2, calificacion_tienda3, calificacion_tienda4]\n",
        "plt.barh(etiquetas, calificaciones, color='lightgreen')#el parametro h es para barras horizontales\n",
        "plt.title('Promedio de calificación por tienda')\n",
        "\n",
        "# Valores a la derecha\n",
        "for i in range(len(calificaciones)):\n",
        "    plt.text(calificaciones[i] + 0.05, i, f'{calificaciones[i]:.2f}', va='center')\n",
        "\n",
        "plt.xlim(0, 5)  # Rango de valores en el eje x\n",
        "plt.show()\n"
      ],
      "metadata": {
        "id": "I0KkjPoTY88F",
        "colab": {
          "base_uri": "https://localhost:8080/",
          "height": 518
        },
        "outputId": "d7aa2abc-82f7-4d76-ab09-cc4b8c115249"
      },
      "execution_count": null,
      "outputs": [
        {
          "output_type": "stream",
          "name": "stdout",
          "text": [
            "Calificación promedio de la tienda 1: 3.98\n",
            "Calificación promedio de la tienda 2: 4.04\n",
            "Calificación promedio de la tienda 3: 4.05\n",
            "Calificación promedio de la tienda 4: 4.0\n"
          ]
        },
        {
          "output_type": "display_data",
          "data": {
            "text/plain": [
              "<Figure size 640x480 with 1 Axes>"
            ],
            "image/png": "[encoded data removed]"
          },
          "metadata": {}
        }
      ]
    },
    {
      "cell_type": "markdown",
      "source": [
        "# 4. Productos más y menos vendidos"
      ],
      "metadata": {
        "id": "DmNp1KPBZCm-"
      }
    },
    {
      "cell_type": "code",
      "source": [
        "#En este paso, debes identificar qué productos fueron los más vendidos y los menos vendidos en cada tienda.\n",
        "#Visualiza los resultados para que quede claro qué productos destacaron en ventas en cada tienda."
      ],
      "metadata": {
        "id": "qoyjqijQZHfF"
      },
      "execution_count": null,
      "outputs": []
    },
    {
      "cell_type": "code",
      "source": [
        "#Extrayendo categorias por cada tienda\n",
        "categoria_serie = tienda['Categoría del Producto']\n",
        "categoria_serie2 = tienda2['Categoría del Producto']\n",
        "categoria_serie3 = tienda3['Categoría del Producto']\n",
        "categoria_serie4 = tienda4['Categoría del Producto']\n",
        "#agrupando categorias\n",
        "categoria_tienda = categoria_serie.value_counts()\n",
        "categoria_tienda2 = categoria_serie2.value_counts()\n",
        "categoria_tienda3 = categoria_serie3.value_counts()\n",
        "categoria_tienda4 = categoria_serie4.value_counts()\n",
        "#guardando el nombre del articulo más vendido y su cantidad\n",
        "#tienda 1\n",
        "articulo_mas_vendido = categoria_tienda.idxmax()\n",
        "cantidad_mas_vendida = categoria_tienda.max()\n",
        "#tienda 2\n",
        "articulo_mas_vendido2 = categoria_tienda2.idxmax()\n",
        "cantidad_mas_vendida2 = categoria_tienda2.max()\n",
        "#tienda 3\n",
        "articulo_mas_vendido3 = categoria_tienda3.idxmax()\n",
        "cantidad_mas_vendida3 = categoria_tienda3.max()\n",
        "#tienda 4\n",
        "articulo_mas_vendido4 = categoria_tienda4.idxmax()\n",
        "cantidad_mas_vendida4 = categoria_tienda4.max()\n",
        "\n",
        "#La función idxmac() te dice cual id única es el qué más se repite\n",
        "#La función max() devuelve el valor máximo de una serie o de cada columna de un DataFrame\n",
        "\n",
        "#guardando el nombre del articulo menos vendido y su cantidad\n",
        "#tienda 1\n",
        "articulo_menos_vendido = categoria_tienda.idxmin()\n",
        "cantidad_menos_vendida = categoria_tienda.min()\n",
        "#tienda 2\n",
        "articulo_menos_vendido2 = categoria_tienda2.idxmin()\n",
        "cantidad_menos_vendida2 = categoria_tienda2.min()\n",
        "#tienda 3\n",
        "articulo_menos_vendido3 = categoria_tienda3.idxmin()\n",
        "cantidad_menos_vendida3 = categoria_tienda3.min()\n",
        "#tienda 4\n",
        "articulo_menos_vendido4 = categoria_tienda4.idxmin()\n",
        "cantidad_menos_vendida4 = categoria_tienda4.min()\n",
        "\n",
        "#imprimiendo el articulo más vendido y menos vendido por cada tienda\n",
        "#tienda 1\n",
        "print(f'El articulo más vendido de la tienda 1 es: {articulo_mas_vendido} con {cantidad_mas_vendida} unidades vendidas')\n",
        "print(f'El articulo menos vendido de la tienda 1 es: {articulo_menos_vendido} con {cantidad_menos_vendida} unidades vendidas')\n",
        "#tienda 2\n",
        "print(f'El articulo más vendido de la tienda 2 es: {articulo_mas_vendido2} con {cantidad_mas_vendida2} unidades vendidas')\n",
        "print(f'El articulo menos vendido de la tienda 2 es: {articulo_menos_vendido2} con {cantidad_menos_vendida2} unidades vendidas')\n",
        "#tienda 3\n",
        "print(f'El articulo más vendido de la tienda 3 es: {articulo_mas_vendido3} con {cantidad_mas_vendida3} unidades vendidas')\n",
        "print(f'El articulo menos vendido de la tienda 3 es: {articulo_menos_vendido3} con {cantidad_menos_vendida3} unidades vendidas')\n",
        "#tienda 4\n",
        "print(f'El articulo más vendido de la tienda 4 es: {articulo_mas_vendido4} con {cantidad_mas_vendida4} unidades vendidas')\n",
        "print(f'El articulo menos vendido de la tienda 4 es: {articulo_menos_vendido4} con {cantidad_menos_vendida4} unidades vendidas')\n",
        "\n",
        "\n",
        "\n",
        "#Generando gráfico de barras\n",
        "cantidades = [cantidad_mas_vendida, cantidad_mas_vendida2, cantidad_mas_vendida3, cantidad_mas_vendida4]\n",
        "nombres = [articulo_mas_vendido, articulo_mas_vendido2, articulo_mas_vendido3, articulo_mas_vendido4]\n",
        "\n",
        "plt.bar(['Tienda 1', 'Tienda 2', 'Tienda 3', 'Tienda 4'], cantidades)\n",
        "plt.title('Artículo más vendido por tienda')\n",
        "\n",
        "#usando plt.text() para poner texto en la parte de arriba de la barra\n",
        "# Mostrar nombre del artículo encima de cada barra\n",
        "for i in range(len(cantidades)):\n",
        "    plt.text(i, cantidades[i] + 5, nombres[i], ha='center')  # `+5` es para que no tape la barra en otras palabras es como un padding\n",
        "\n",
        "plt.show()\n",
        "\n",
        "\n",
        "\n",
        "\n",
        "\n"
      ],
      "metadata": {
        "id": "0Sw3sd4IZIGW",
        "colab": {
          "base_uri": "https://localhost:8080/",
          "height": 588
        },
        "outputId": "7674f066-a7d3-49ac-d9d8-b89adfd368d3"
      },
      "execution_count": null,
      "outputs": [
        {
          "output_type": "stream",
          "name": "stdout",
          "text": [
            "El articulo más vendido de la tienda 1 es: Muebles con 465 unidades vendidas\n",
            "El articulo menos vendido de la tienda 1 es: Artículos para el hogar con 171 unidades vendidas\n",
            "El articulo más vendido de la tienda 2 es: Muebles con 442 unidades vendidas\n",
            "El articulo menos vendido de la tienda 2 es: Artículos para el hogar con 181 unidades vendidas\n",
            "El articulo más vendido de la tienda 3 es: Muebles con 499 unidades vendidas\n",
            "El articulo menos vendido de la tienda 3 es: Instrumentos musicales con 177 unidades vendidas\n",
            "El articulo más vendido de la tienda 4 es: Muebles con 480 unidades vendidas\n",
            "El articulo menos vendido de la tienda 4 es: Instrumentos musicales con 170 unidades vendidas\n"
          ]
        },
        {
          "output_type": "display_data",
          "data": {
            "text/plain": [
              "<Figure size 640x480 with 1 Axes>"
            ],
            "image/png": "[encoded data removed]"
          },
          "metadata": {}
        }
      ]
    },
    {
      "cell_type": "markdown",
      "source": [
        "# 5. Envío promedio por tienda"
      ],
      "metadata": {
        "id": "Fl0cGi3bZKqU"
      }
    },
    {
      "cell_type": "code",
      "source": [
        "#En este paso, debes calcular el costo de envío promedio para cada tienda.\n",
        "#El objetivo es comprender cuánto se gasta, en promedio, en el envío de cada tienda."
      ],
      "metadata": {
        "id": "S2JeaCykZNy9"
      },
      "execution_count": null,
      "outputs": []
    },
    {
      "cell_type": "code",
      "source": [
        "#Extrayendo costos de envío\n",
        "costo_envio_serie = tienda['Costo de envío']\n",
        "costo_envio_serie2 = tienda2['Costo de envío']\n",
        "costo_envio_serie3 = tienda3['Costo de envío']\n",
        "costo_envio_serie4 = tienda4['Costo de envío']\n",
        "#calcular los promedios\n",
        "costo_envio_tienda = costo_envio_serie.mean()\n",
        "costo_envio_tienda2 = costo_envio_serie2.mean()\n",
        "costo_envio_tienda3 = costo_envio_serie3.mean()\n",
        "costo_envio_tienda4 = costo_envio_serie4.mean()\n",
        "#la función mean() nos sirve para calcular los promedios de los valores de un DataFrame o de una Serie\n",
        "#Imprimiendo promedios por cada tienda redondeado a dos decimales\n",
        "print(f'Costo de envio promedio de la tienda 1: {round(costo_envio_tienda, 2)}')\n",
        "print(f'Costo de envio promedio de la tienda 2: {round(costo_envio_tienda2, 2)}')\n",
        "print(f'Costo de envio promedio de la tienda 3: {round(costo_envio_tienda3, 2)}')\n",
        "print(f'Costo de envio promedio de la tienda 4: {round(costo_envio_tienda4, 2)}')"
      ],
      "metadata": {
        "id": "0tSdCie9ZQlt",
        "colab": {
          "base_uri": "https://localhost:8080/"
        },
        "outputId": "477897ff-9ce8-474c-d1b3-0f641cda40b7"
      },
      "execution_count": null,
      "outputs": [
        {
          "output_type": "stream",
          "name": "stdout",
          "text": [
            "Costo de envio promedio de la tienda 1: 26018.61\n",
            "Costo de envio promedio de la tienda 2: 25216.24\n",
            "Costo de envio promedio de la tienda 3: 24805.68\n",
            "Costo de envio promedio de la tienda 4: 23459.46\n"
          ]
        }
      ]
    },
    {
      "cell_type": "markdown",
      "source": [
        "# 6. Informe\n",
        "\n"
      ],
      "metadata": {
        "id": "u6Fsbw3TSDca"
      }
    },
    {
      "cell_type": "markdown",
      "source": [
        "# Introduccion\n",
        "En señor Juan tiene 4 tiendas, y busca eliminar una para invertir ese dinero en otro negocio, nos contrato a nosotros para ayudarle en esa desición\n",
        "# Elección de la tienda\n",
        "La elección como analista, que llegue luego de analizar la información, es que la tienda que deberia vender es la tienda 1.\n",
        "# Justificación\n",
        "Todas las tiendas tienen sus pros y sus contras, aunque la tienda 1 sea la que más factura, tambien es la que tiene peor puntaje de atención según los clientes, aunque peca de tener la mesa como producto popular, como todas las demas tiendas, no es la tienda que vende más mesas, por ultimo es la tienda que más dinero gasta en en promedio en costo de envio.\n",
        "# Conclusiones\n",
        "No se puede tomar una desición centrado en un solo aspecto, se tiene que evaluar todas las carecteristicas que pueden afectar al negocio a largo y corto plazo."
      ],
      "metadata": {
        "id": "RCYX2yFLFW_N"
      }
    }
  ]
}